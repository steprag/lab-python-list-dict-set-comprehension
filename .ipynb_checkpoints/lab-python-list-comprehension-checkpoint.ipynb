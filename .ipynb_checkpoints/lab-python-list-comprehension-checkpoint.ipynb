{
 "cells": [
  {
   "cell_type": "markdown",
   "id": "25d7736c-ba17-4aff-b6bb-66eba20fbf4e",
   "metadata": {},
   "source": [
    "# Lab | List, Dict and Set Comprehension"
   ]
  },
  {
   "cell_type": "markdown",
   "id": "7dd3cbde-675a-4b81-92c3-f728846dbe06",
   "metadata": {},
   "source": [
    "## Exercise: Managing Customer Orders Optimized with Comprehension"
   ]
  },
  {
   "cell_type": "markdown",
   "id": "5d500160-2fb7-4777-b5e4-09d45ebaf328",
   "metadata": {},
   "source": [
    "In the previous exercise, you developed a program to manage customer orders and inventory. Now, let's take it a step further and incorporate comprehension into your code.\n",
    "\n",
    "Follow the steps below to complete the exercise:\n",
    "\n",
    "1. Review your code from the previous exercise and identify areas where you can apply comprehension to simplify and streamline your code. \n",
    "\n",
    "    - *Hint: Apply it to initialize inventory, updating the inventory and printing the updated inventory.*\n",
    "    \n",
    "    - For example, in initializing the inventory, we could have:\n",
    "    \n",
    "        ```python\n",
    "        def initialize_inventory(products):\n",
    "            inventory = {product: int(input(f\"Enter the quantity of {product}s available: \")) for product in products}\n",
    "            return inventory\n",
    "\n",
    "        ```\n",
    "<br>\n",
    "    \n",
    "    \n",
    "2. Modify the function get_customer_orders so it prompts the user to enter the number of customer orders and gathers the product names using a loop and user input. Use comprehension.\n",
    "\n",
    "3. Add a new function to calculate the total price of the customer order. For each product in customer_orders, prompt the user to enter the price of that product. Use comprehension to calculate the total price. Note: assume that the user can only have 1 unit of each product.\n",
    "\n",
    "4. Modify the update_inventory function to remove the product from the inventory if its quantity becomes zero after fulfilling the customer orders. Use comprehension to filter out the products with a quantity of zero from the inventory.\n",
    "\n",
    "5. Print the total price of the customer order.\n",
    "\n",
    "Your code should produce output similar to the following:\n",
    "\n",
    "```python\n",
    "Enter the quantity of t-shirts available:  5\n",
    "Enter the quantity of mugs available:  4\n",
    "Enter the quantity of hats available:  3\n",
    "Enter the quantity of books available:  2\n",
    "Enter the quantity of keychains available:  1\n",
    "Enter the number of customer orders:  2\n",
    "Enter the name of a product that a customer wants to order:  hat\n",
    "Enter the name of a product that a customer wants to order:  keychain\n",
    "\n",
    "Order Statistics:\n",
    "Total Products Ordered: 2\n",
    "Percentage of Unique Products Ordered: 40.0\n",
    "\n",
    "Updated Inventory:\n",
    "t-shirt: 5\n",
    "mug: 4\n",
    "hat: 2\n",
    "book: 2\n",
    "Enter the price of keychain:  5\n",
    "Enter the price of hat:  10\n",
    "Total Price: 15.0\n",
    "\n",
    "```\n"
   ]
  },
  {
   "cell_type": "code",
   "execution_count": 3,
   "id": "031c93a4",
   "metadata": {},
   "outputs": [],
   "source": [
    "# Function to initialize inventory using dictionary comprehension\n",
    "def init_inventory(products):\n",
    "    inventory = {product: int(input(f\"Enter the quantity of {product}s available: \")) for product in products}\n",
    "    return inventory\n"
   ]
  },
  {
   "cell_type": "code",
   "execution_count": 10,
   "id": "912a731f",
   "metadata": {},
   "outputs": [],
   "source": [
    "# Function to get customer orders using list comprehension\n",
    "def get_cust_ord():\n",
    "    num_orders = int(input(\"Enter the number of customer orders: \"))\n",
    "    cust_ord = [input(f\"Enter the name of a product that a customer wants to order: \") for _ in range(num_orders)]\n",
    "    return cust_ord"
   ]
  },
  {
   "cell_type": "code",
   "execution_count": 5,
   "id": "e9c243f4",
   "metadata": {},
   "outputs": [],
   "source": [
    "# Function to calculate the total price of the customer order using list comprehension\n",
    "def calculate_total_price(cust_ord):\n",
    "    total_price = sum([float(input(f\"Enter the price of {product}: \")) for product in custo_ord])\n",
    "    return total_price"
   ]
  },
  {
   "cell_type": "code",
   "execution_count": 6,
   "id": "111dc405",
   "metadata": {},
   "outputs": [],
   "source": [
    "# Function to calculate the total price of the customer order using list comprehension\n",
    "def calculate_total_price(cust_ord):\n",
    "    total_price = sum([float(input(f\"Enter the price of {product}: \")) for product in cust_ord])\n",
    "    return total_price"
   ]
  },
  {
   "cell_type": "code",
   "execution_count": 8,
   "id": "bfdf9d00",
   "metadata": {},
   "outputs": [],
   "source": [
    "# Function to update inventory using dictionary comprehension to filter out products with quantity zero\n",
    "def update_inventory(inventory, cust_ord):\n",
    "    for product in cust_ord:\n",
    "        inventory[product] -= 1\n",
    "    inventory = {product: qty for product, qty in inventory.items() if qty > 0}\n",
    "    return inventory"
   ]
  },
  {
   "cell_type": "code",
   "execution_count": 11,
   "id": "68a0691d",
   "metadata": {},
   "outputs": [
    {
     "name": "stdout",
     "output_type": "stream",
     "text": [
      "Enter the quantity of t-shirts available: 5\n",
      "Enter the quantity of mugs available: 4\n",
      "Enter the quantity of hats available: 3\n",
      "Enter the quantity of books available: 2\n",
      "Enter the quantity of keychains available: 1\n",
      "Enter the number of customer orders: 2\n",
      "Enter the name of a product that a customer wants to order: hat\n",
      "Enter the name of a product that a customer wants to order: keychain\n",
      "Enter the price of hat: 10\n",
      "Enter the price of keychain: 5\n"
     ]
    }
   ],
   "source": [
    "# Main program\n",
    "products = [\"t-shirt\", \"mug\", \"hat\", \"book\", \"keychain\"]  # Sample list of products\n",
    "inventory = initialize_inventory(products)  # Initialize inventory\n",
    "\n",
    "cust_ord = get_cust_ord()  # Get customer orders\n",
    "total_price = calculate_total_price(cust_ord)  # Calculate total price\n",
    "inventory = update_inventory(inventory, cust_ord)  # Update inventory"
   ]
  },
  {
   "cell_type": "code",
   "execution_count": 13,
   "id": "b07388a2",
   "metadata": {},
   "outputs": [
    {
     "name": "stdout",
     "output_type": "stream",
     "text": [
      "Order Statistics:\n",
      "Total Products Ordered: 2\n",
      "Percentage of Unique Products Ordered: 40.0%\n",
      "\n",
      "Updated Inventory:\n",
      "t-shirt: 5\n",
      "mug: 4\n",
      "hat: 2\n",
      "book: 2\n",
      "Total Price: 15.0\n"
     ]
    }
   ],
   "source": [
    "# Output order statistics, updated inventory, and total price\n",
    "print(\"Order Statistics:\")\n",
    "print(f\"Total Products Ordered: {len(cust_ord)}\")\n",
    "print(f\"Percentage of Unique Products Ordered: {len(set(cust_ord))/len(products)*100}%\\n\")\n",
    "print(\"Updated Inventory:\")\n",
    "for product, qty in inventory.items():\n",
    "    print(f\"{product}: {qty}\")\n",
    "print(f\"Total Price: {total_price}\")"
   ]
  },
  {
   "cell_type": "code",
   "execution_count": null,
   "id": "62df16fb",
   "metadata": {},
   "outputs": [],
   "source": []
  }
 ],
 "metadata": {
  "kernelspec": {
   "display_name": "Python 3 (ipykernel)",
   "language": "python",
   "name": "python3"
  },
  "language_info": {
   "codemirror_mode": {
    "name": "ipython",
    "version": 3
   },
   "file_extension": ".py",
   "mimetype": "text/x-python",
   "name": "python",
   "nbconvert_exporter": "python",
   "pygments_lexer": "ipython3",
   "version": "3.11.5"
  }
 },
 "nbformat": 4,
 "nbformat_minor": 5
}
